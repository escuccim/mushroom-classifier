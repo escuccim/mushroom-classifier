{
 "cells": [
  {
   "cell_type": "code",
   "execution_count": 1,
   "metadata": {
    "collapsed": true
   },
   "outputs": [],
   "source": [
    "import numpy as np\n",
    "import pandas as pd\n",
    "import matplotlib.pyplot as plt\n",
    "import os\n",
    "import tensorflow as tf\n",
    "from sklearn.model_selection import train_test_split\n",
    "%matplotlib inline"
   ]
  },
  {
   "cell_type": "code",
   "execution_count": 2,
   "metadata": {},
   "outputs": [
    {
     "name": "stdout",
     "output_type": "stream",
     "text": [
      "X_tr (6093, 117)\n",
      "X_cv (1016, 117)\n",
      "X_te (1015, 117)\n",
      "y_tr (6093,)\n",
      "y_cv (1016,)\n",
      "y_te (1015,)\n"
     ]
    }
   ],
   "source": [
    "# import the data\n",
    "data = pd.read_csv(os.path.join('data','mushrooms.csv'))\n",
    "labels = data['class']\n",
    "X = data.drop(['class'], axis=1)\n",
    "\n",
    "# encode dummy variables\n",
    "X = pd.get_dummies(X).values\n",
    "\n",
    "# y should be 1 for edible\n",
    "y = (labels == 'e') * 1\n",
    "\n",
    "# split the data into train and validation\n",
    "X_tr, X_te, y_tr, y_te = train_test_split(X, y, test_size=0.25, random_state=1)\n",
    "\n",
    "# split test into test and validation\n",
    "X_te, X_cv, y_te, y_cv = train_test_split(X_te, y_te, test_size=0.5, random_state=1)\n",
    "\n",
    "print(\"X_tr\", X_tr.shape)\n",
    "print(\"X_cv\", X_cv.shape)\n",
    "print(\"X_te\", X_te.shape)\n",
    "print(\"y_tr\", y_tr.shape)\n",
    "print(\"y_cv\", y_cv.shape)\n",
    "print(\"y_te\", y_te.shape)"
   ]
  },
  {
   "cell_type": "code",
   "execution_count": null,
   "metadata": {
    "collapsed": true
   },
   "outputs": [],
   "source": []
  }
 ],
 "metadata": {
  "kernelspec": {
   "display_name": "Python 3",
   "language": "python",
   "name": "python3"
  },
  "language_info": {
   "codemirror_mode": {
    "name": "ipython",
    "version": 3
   },
   "file_extension": ".py",
   "mimetype": "text/x-python",
   "name": "python",
   "nbconvert_exporter": "python",
   "pygments_lexer": "ipython3",
   "version": "3.6.2"
  }
 },
 "nbformat": 4,
 "nbformat_minor": 2
}
